{
 "cells": [
  {
   "cell_type": "code",
   "execution_count": 1,
   "metadata": {},
   "outputs": [],
   "source": [
    "from selenium import webdriver\n",
    "import pandas as pd\n",
    "import time\n",
    "import requests\n",
    "from random import randint\n",
    "from selenium.webdriver.common.keys import Keys\n",
    "from selenium.webdriver.common.action_chains import ActionChains"
   ]
  },
  {
   "cell_type": "code",
   "execution_count": 2,
   "metadata": {},
   "outputs": [],
   "source": [
    "driver = webdriver.Chrome('C:/Users/abdurrahman.kocukcu/chromedriver/chromedriver.exe')"
   ]
  },
  {
   "cell_type": "code",
   "execution_count": 3,
   "metadata": {},
   "outputs": [],
   "source": [
    "sub_category_list = ['Men', 'Clothing', 'Shirts', 'Tank Tops']"
   ]
  },
  {
   "cell_type": "code",
   "execution_count": 4,
   "metadata": {},
   "outputs": [],
   "source": [
    "page = 1\n",
    "page_limit = 10\n",
    "search_keyword = 'men'"
   ]
  },
  {
   "cell_type": "code",
   "execution_count": 5,
   "metadata": {},
   "outputs": [],
   "source": [
    "def open_homepage():\n",
    "    driver.get('https://www.amazon.com/')\n",
    "    driver.maximize_window()"
   ]
  },
  {
   "cell_type": "code",
   "execution_count": 6,
   "metadata": {},
   "outputs": [],
   "source": [
    "def open_camo_search_results():\n",
    "    menu_item = driver.find_element_by_xpath(\"//*[@id='searchDropdownBox']/option[@value='search-alias=fashion']\")\n",
    "    menu_item.click()\n",
    "\n",
    "    search_bar = driver.find_element_by_xpath(\"//*[@id='twotabsearchtextbox']\")\n",
    "    search_bar.send_keys(search_keyword)\n",
    "\n",
    "    submit_button = driver.find_element_by_xpath(\"//*[@value='Go']\")\n",
    "    submit_button.click()"
   ]
  },
  {
   "cell_type": "code",
   "execution_count": 7,
   "metadata": {},
   "outputs": [],
   "source": [
    "def get_product_urls():\n",
    "\n",
    "    real_products = []\n",
    "    product_urls = []\n",
    "\n",
    "    products = driver.find_elements_by_css_selector(\"#search > div.sg-row > div.sg-col-20-of-24.sg-col-28-of-32.sg-col-16-of-20.sg-col.s-right-column.sg-col-32-of-36.sg-col-8-of-12.sg-col-12-of-16.sg-col-24-of-28 > div > span:nth-child(5) > div.s-result-list.sg-row > div\")\n",
    "    print(\"product count : \",len(products))\n",
    "    for idx, product in enumerate(products):\n",
    "        try:\n",
    "            if \"AdHolder\" not in product.get_attribute(\"class\") and product.get_attribute(\"data-index\") is not None and \"search_result_\" in product.get_attribute(\"data-cel-widget\"):\n",
    "                real_products.append(product)\n",
    "        except Exception as e:\n",
    "            print(e)\n",
    "\n",
    "    print(\"real product count : \",len(real_products))\n",
    "    #print(real_products[0].get_attribute(\"data-asin\"))\n",
    "\n",
    "    for real_product in real_products:\n",
    "        product_anchor = real_product.find_element_by_css_selector('[data-component-type=\"s-product-image\"] > a')\n",
    "        product_url =  product_anchor.get_attribute(\"href\")\n",
    "        product_urls.append(product_url)\n",
    "\n",
    "    return product_urls"
   ]
  },
  {
   "cell_type": "code",
   "execution_count": 8,
   "metadata": {},
   "outputs": [],
   "source": [
    "def open_product_detail_page(product_url):\n",
    "    driver.switch_to.window(driver.window_handles[1])\n",
    "    driver.get(product_url)"
   ]
  },
  {
   "cell_type": "code",
   "execution_count": 18,
   "metadata": {},
   "outputs": [],
   "source": [
    "def select_swatch_elements(product_number):\n",
    "    selected_product_number = ''\n",
    "    swatch_elements = []\n",
    "    data_defaultasin_list = []\n",
    "    \n",
    "    try:\n",
    "        swatch_elements = driver.find_elements_by_css_selector(\"ul.imageSwatches > li\")\n",
    "    except Exception as e:\n",
    "        print(e)\n",
    "\n",
    "    if len(swatch_elements)>0:\n",
    "        for idx, swatch_element in enumerate(swatch_elements):\n",
    "            data_defaultasin =  swatch_element.get_attribute(\"data-defaultasin\")\n",
    "            data_defaultasin_list.append(data_defaultasin)\n",
    "            \n",
    "        for data_default_asin_idx, data_default_asin_element in enumerate(data_defaultasin_list):\n",
    "            swatch_element_button = driver.find_element_by_xpath('//li[@data-defaultasin=\"'+data_default_asin_element+'\"]/span/div/span/span/span/button')\n",
    "            random_click_time = randint(2,4)\n",
    "            swatch_click_action = ActionChains(driver).click(swatch_element_button)\n",
    "            swatch_click_action.perform()\n",
    "            time.sleep(random_click_time)\n",
    "            selected_product_number = str(product_number)+'-'+str(data_default_asin_idx)\n",
    "            download_product_detail_images(selected_product_number)\n",
    "        \n",
    "        \n",
    "    else:\n",
    "        selected_product_number = str(product_number)+'-'+'0'\n",
    "        download_product_detail_images(selected_product_number)"
   ]
  },
  {
   "cell_type": "code",
   "execution_count": 10,
   "metadata": {},
   "outputs": [],
   "source": [
    "def download_product_detail_images(number):\n",
    "    hover_elements = driver.find_elements_by_css_selector(\"li.a-spacing-small.item.imageThumbnail.a-declarative\")\n",
    "\n",
    "    for idx, hover_element in enumerate(hover_elements):\n",
    "        random_hover_time = randint(2,4)\n",
    "        hover_action = ActionChains(driver).move_to_element(hover_element)\n",
    "        hover_action.perform()\n",
    "        time.sleep(random_hover_time)\n",
    "\n",
    "    hires_images =  driver.find_elements_by_css_selector(\"#main-image-container > ul > li.maintain-height > span > span > div > img\")\n",
    "\n",
    "\n",
    "    for idx,hires_image in enumerate(hires_images):\n",
    "        random_load_time = randint(3,9)\n",
    "        \n",
    "        try:\n",
    "            my_image_url = hires_image.get_attribute(\"data-old-hires\")\n",
    "            my_image_filename='images/'+str(page)+'-'+number+'-'+str(idx)+'.jpg'\n",
    "            my_response = requests.get(url=my_image_url, stream=True, timeout=20)\n",
    "            if my_response.status_code == 200:\n",
    "                with open(my_image_filename, 'wb') as my_file:\n",
    "                    my_file.write(my_response.content)\n",
    "                del my_response\n",
    "            pass\n",
    "        except Exception as e:\n",
    "            print(e)\n",
    "        \n",
    "        \n",
    "        time.sleep(random_load_time)"
   ]
  },
  {
   "cell_type": "code",
   "execution_count": 11,
   "metadata": {},
   "outputs": [],
   "source": [
    "def go_to_next_page():\n",
    "    # next_page_button = driver.find_element_by_css_selector(\"#search > div.sg-row > div.sg-col-20-of-24.sg-col-28-of-32.sg-col-16-of-20.sg-col.s-right-column.sg-col-32-of-36.sg-col-8-of-12.sg-col-12-of-16.sg-col-24-of-28 > div > span:nth-child(9) > div > div > div > ul > li.a-last > a\")\n",
    "    next_page_button = driver.find_element_by_xpath(\"//ul[@class='a-pagination']/li[@class='a-last']/a[contains(text(), 'Next')]\")\n",
    "    next_page_button.click()"
   ]
  },
  {
   "cell_type": "code",
   "execution_count": 12,
   "metadata": {},
   "outputs": [],
   "source": [
    "def go_to_sub_category(sub_category):\n",
    "    nav_links = products = driver.find_elements_by_css_selector(\"#departments > ul.a-unordered-list.a-nostyle.a-vertical.a-spacing-medium > li\")\n",
    "    for nav_link in nav_links:\n",
    "        # we check whether this element exists. As SO suggested we should use find_element\"S\"\n",
    "        # https://stackoverflow.com/a/36166132\n",
    "        if nav_link.find_elements_by_css_selector(\"span > a\"):\n",
    "            nav_link_item = nav_link.find_element_by_css_selector(\"span > a\")\n",
    "            nav_link_url = nav_link_item.get_attribute(\"href\")\n",
    "            nav_link_text = nav_link_item.find_element_by_css_selector(\"span\").text\n",
    "            if nav_link_text == sub_category:\n",
    "                nav_link_item.click()"
   ]
  },
  {
   "cell_type": "code",
   "execution_count": 13,
   "metadata": {},
   "outputs": [],
   "source": [
    "open_homepage()"
   ]
  },
  {
   "cell_type": "code",
   "execution_count": 14,
   "metadata": {},
   "outputs": [],
   "source": [
    "driver.execute_script(\"window.open('','_blank');\")\n",
    "driver.switch_to.window(driver.window_handles[0])"
   ]
  },
  {
   "cell_type": "code",
   "execution_count": 15,
   "metadata": {},
   "outputs": [],
   "source": [
    "open_camo_search_results()"
   ]
  },
  {
   "cell_type": "code",
   "execution_count": 16,
   "metadata": {},
   "outputs": [
    {
     "name": "stdout",
     "output_type": "stream",
     "text": [
      "Message: stale element reference: element is not attached to the page document\n",
      "  (Session info: chrome=78.0.3904.97)\n",
      "\n",
      "Message: stale element reference: element is not attached to the page document\n",
      "  (Session info: chrome=78.0.3904.97)\n",
      "\n",
      "Message: stale element reference: element is not attached to the page document\n",
      "  (Session info: chrome=78.0.3904.97)\n",
      "\n",
      "Message: stale element reference: element is not attached to the page document\n",
      "  (Session info: chrome=78.0.3904.97)\n",
      "\n"
     ]
    }
   ],
   "source": [
    "for sub_category in sub_category_list:\n",
    "    random_sub_category_page_time = randint(5,10)\n",
    "    try:\n",
    "        go_to_sub_category(sub_category)\n",
    "        time.sleep(random_sub_category_page_time)\n",
    "    except Exception as e:\n",
    "        print(e)"
   ]
  },
  {
   "cell_type": "code",
   "execution_count": 20,
   "metadata": {
    "scrolled": true
   },
   "outputs": [
    {
     "name": "stdout",
     "output_type": "stream",
     "text": [
      "product count :  61\n",
      "real product count :  48\n",
      "https://www.amazon.com/Amazon-Essentials-Regular-Fit-Ringer-Large/dp/B07HJ7CS73/ref=sr_1_1?dchild=1&keywords=men&qid=1573470336&rnid=2476517011&s=apparel&sr=1-1\n",
      "https://www.amazon.com/Amazon-Essentials-Slim-Fit-Ringer-Black/dp/B07HJDJ6FC/ref=sr_1_2?dchild=1&keywords=men&qid=1573470336&rnid=2476517011&s=apparel&sr=1-2\n",
      "https://www.amazon.com/Hurley-Mens-Graphic-PHOTOBLU-White/dp/B075ZV3S94/ref=sr_1_3?dchild=1&keywords=men&qid=1573470336&rnid=2476517011&s=apparel&sr=1-3\n",
      "https://www.amazon.com/Fruit-Loom-Heavy-Cotton-BLACK/dp/B00I2ZCNZA/ref=sr_1_4?dchild=1&keywords=men&qid=1573470336&rnid=2476517011&s=apparel&sr=1-4\n",
      "https://www.amazon.com/Hanes-Mens-X-Temp-Black-XX-Large/dp/B01AZS4CJG/ref=sr_1_5?dchild=1&keywords=men&qid=1573470336&rnid=2476517011&s=apparel&sr=1-5\n",
      "https://www.amazon.com/Polo-Ralph-Lauren-Classic-Ribbed/dp/B00W57U6HI/ref=sr_1_6?dchild=1&keywords=men&qid=1573470336&rnid=2476517011&s=apparel&sr=1-6\n",
      "https://www.amazon.com/ComfortWash-Hanes-Black-GDH300-00738994333377/dp/B07933VSF9/ref=sr_1_7?dchild=1&keywords=men&qid=1573470336&rnid=2476517011&s=apparel&sr=1-7\n",
      "https://www.amazon.com/Gildan-Adult-Ultra-Cotton%C2%AE-BLACK/dp/B0017WO31M/ref=sr_1_8?dchild=1&keywords=men&qid=1573470336&rnid=2476517011&s=apparel&sr=1-8\n",
      "https://www.amazon.com/Fruit-Loom-Adult-Cotton-Tank/dp/B074LHXTBT/ref=sr_1_9?dchild=1&keywords=men&qid=1573470336&rnid=2476517011&s=apparel&sr=1-9\n",
      "https://www.amazon.com/Fruit-Loom-Needle-Hemmed-Bottom/dp/B01CD0ZO4G/ref=sr_1_10?dchild=1&keywords=men&qid=1573470336&rnid=2476517011&s=apparel&sr=1-10\n",
      "https://www.amazon.com/Calvin-Klein-Mens-Body-Black/dp/B075JTVL2B/ref=sr_1_11?dchild=1&keywords=men&qid=1573470336&rnid=2476517011&s=apparel&sr=1-11\n",
      "https://www.amazon.com/Tommy-Hilfiger-Modern-Essentials-Cotton/dp/B07MW82MN7/ref=sr_1_12?dchild=1&keywords=men&qid=1573470336&rnid=2476517011&s=apparel&sr=1-12\n",
      "https://www.amazon.com/Hanes-Thermal-Long-Sleeve-Natural-X-Large/dp/B00G15MF4M/ref=sr_1_13?dchild=1&keywords=men&qid=1573470336&rnid=2476517011&s=apparel&sr=1-13\n",
      "https://www.amazon.com/Gildan-Heavy-Cotton-G520-SAFETY/dp/B01AML9G1K/ref=sr_1_14?dchild=1&keywords=men&qid=1573470336&rnid=2476517011&s=apparel&sr=1-14\n",
      "https://www.amazon.com/Gildan-Cotton-Sleeveless-T-Shirt-G270/dp/B014W0WOUC/ref=sr_1_15?dchild=1&keywords=men&qid=1573470336&rnid=2476517011&s=apparel&sr=1-15\n",
      "https://www.amazon.com/Next-Level-Apparel-Premium-Tank-BLACK-XL/dp/B014WDCPQM/ref=sr_1_16?dchild=1&keywords=men&qid=1573470336&rnid=2476517011&s=apparel&sr=1-16\n",
      "https://www.amazon.com/H2H-Sleeveless-Fashion-Hoodies-JPSK13_N25/dp/B00WG4QJG2/ref=sr_1_17?dchild=1&keywords=men&qid=1573470336&rnid=2476517011&s=apparel&sr=1-17\n",
      "https://www.amazon.com/Jerzees-Performance-Sleeveless-T-Shirt_Athletic-Heather_X-Large/dp/B01F2ATDNM/ref=sr_1_18?dchild=1&keywords=men&qid=1573470336&rnid=2476517011&s=apparel&sr=1-18\n",
      "https://www.amazon.com/Victorious-Solid-Color-Length-Curved/dp/B07146NP33/ref=sr_1_19?dchild=1&keywords=men&qid=1573470336&rnid=2476517011&s=apparel&sr=1-19\n",
      "https://www.amazon.com/Quiksilver-Mens-Under-Charcoal-Heather/dp/B07GQRVDL1/ref=sr_1_20?dchild=1&keywords=men&qid=1573470336&rnid=2476517011&s=apparel&sr=1-20\n",
      "https://www.amazon.com/Gildan-Ultra-Cotton-Sleeveless-T-Shirt/dp/B014WCAQV4/ref=sr_1_21?dchild=1&keywords=men&qid=1573470336&rnid=2476517011&s=apparel&sr=1-21\n",
      "https://www.amazon.com/Pro-Club-Heavyweight-Sleeveless-3X-Large/dp/B01MDTNTKZ/ref=sr_1_22?dchild=1&keywords=men&qid=1573470336&rnid=2476517011&s=apparel&sr=1-22\n",
      "https://www.amazon.com/COOFANDY-Sleeves-Muscle-Through-Transparent/dp/B07BT35KT1/ref=sr_1_23?dchild=1&keywords=men&qid=1573470336&rnid=2476517011&s=apparel&sr=1-23\n",
      "https://www.amazon.com/Next-Level-Apparel-Jersey-Black/dp/B07BJM4YRR/ref=sr_1_24?dchild=1&keywords=men&qid=1573470336&rnid=2476517011&s=apparel&sr=1-24\n",
      "https://www.amazon.com/Hanes-Tagless-Comfort-Ribbed-Shirt/dp/B07BJDLHRQ/ref=sr_1_29?dchild=1&keywords=men&qid=1573470336&rnid=2476517011&s=apparel&sr=1-29\n",
      "https://www.amazon.com/Gildan-Cotton-Sleeveless-T-Shirt-WHITE/dp/B0049BKCWW/ref=sr_1_30?dchild=1&keywords=men&qid=1573470336&rnid=2476517011&s=apparel&sr=1-30\n",
      "https://www.amazon.com/PUMA-Mens-Summer-Logo-Tank/dp/B07HFCKGVW/ref=sr_1_31?dchild=1&keywords=men&qid=1573470336&rnid=2476517011&s=apparel&sr=1-31\n",
      "https://www.amazon.com/KingSize-Heavyweight-Cotton-Bright-Big-2XL/dp/B07MMH7GY6/ref=sr_1_32?dchild=1&keywords=men&qid=1573470336&rnid=2476517011&s=apparel&sr=1-32\n",
      "https://www.amazon.com/Port-Company-PC54TT-100-Cotton/dp/B0159ZTQM8/ref=sr_1_33?dchild=1&keywords=men&qid=1573470336&rnid=2476517011&s=apparel&sr=1-33\n",
      "https://www.amazon.com/Gildan-2200-Classic-Adult-Cotton/dp/B00OO5315I/ref=sr_1_34?dchild=1&keywords=men&qid=1573470336&rnid=2476517011&s=apparel&sr=1-34\n",
      "https://www.amazon.com/Quiksilver-Mens-Lost-Gray-Heather/dp/B07GQ71TPF/ref=sr_1_35?dchild=1&keywords=men&qid=1573470336&rnid=2476517011&s=apparel&sr=1-35\n",
      "https://www.amazon.com/Bella-Canvas-Unisex-Jersey-Tank/dp/B014WBUI5E/ref=sr_1_36?dchild=1&keywords=men&qid=1573470336&rnid=2476517011&s=apparel&sr=1-36\n",
      "https://www.amazon.com/Hugo-Boss-BOSS-10194356-Black/dp/B01N19GT13/ref=sr_1_37?dchild=1&keywords=men&qid=1573470336&rnid=2476517011&s=apparel&sr=1-37\n",
      "https://www.amazon.com/KingSize-Lightweight-Cotton-Muscle-Big-5Xl/dp/B005GQEXP6/ref=sr_1_38?dchild=1&keywords=men&qid=1573470336&rnid=2476517011&s=apparel&sr=1-38\n",
      "https://www.amazon.com/Volcom-Solid-Heather-Shirt-Crimson/dp/B07JCJJWNW/ref=sr_1_39?dchild=1&keywords=men&qid=1573470336&rnid=2476517011&s=apparel&sr=1-39\n",
      "https://www.amazon.com/Quiksilver-Mens-Lost-Charcoal-Heather/dp/B07GQLHHGB/ref=sr_1_40?dchild=1&keywords=men&qid=1573470336&rnid=2476517011&s=apparel&sr=1-40\n",
      "https://www.amazon.com/GUESS-Factory-Mens-Quinn-Striped/dp/B07NDFSCNM/ref=sr_1_41?dchild=1&keywords=men&qid=1573470336&rnid=2476517011&s=apparel&sr=1-41\n",
      "https://www.amazon.com/JOGAL-Fishnet-Fitted-Muscle-X-Small/dp/B07D7T9NY2/ref=sr_1_42?dchild=1&keywords=men&qid=1573470336&rnid=2476517011&s=apparel&sr=1-42\n",
      "https://www.amazon.com/IST-2xist-Contrast-Square-Cut-Brown/dp/B00K0OU2Q8/ref=sr_1_43?dchild=1&keywords=men&qid=1573470336&rnid=2476517011&s=apparel&sr=1-43\n",
      "https://www.amazon.com/JC-DISTRO-Hipster-Basic-Casual/dp/B06XCQL2JN/ref=sr_1_44?dchild=1&keywords=men&qid=1573470336&rnid=2476517011&s=apparel&sr=1-44\n",
      "https://www.amazon.com/Fashion-Gildan-Heavy-Adult-Orange/dp/B07BJMHCRT/ref=sr_1_45?dchild=1&keywords=men&qid=1573470336&rnid=2476517011&s=apparel&sr=1-45\n",
      "https://www.amazon.com/JOGAL-Fishnet-Fitted-Muscle-X-Small/dp/B07D7SRLR6/ref=sr_1_46?dchild=1&keywords=men&qid=1573470336&rnid=2476517011&s=apparel&sr=1-46\n",
      "https://www.amazon.com/adidas-Badge-Sport-Classic-Khaki/dp/B07HCKSKK3/ref=sr_1_47?dchild=1&keywords=men&qid=1573470336&rnid=2476517011&s=apparel&sr=1-47\n",
      "https://www.amazon.com/JD-Apparel-Premium-Jersey-Military/dp/B079YL3QT3/ref=sr_1_48?dchild=1&keywords=men&qid=1573470336&rnid=2476517011&s=apparel&sr=1-48\n",
      "https://www.amazon.com/Gildan-Sleeveless-T-Shirt-G270-White-X-Large/dp/B000G9HQKW/ref=sr_1_49?dchild=1&keywords=men&qid=1573470336&rnid=2476517011&s=apparel&sr=1-49\n",
      "https://www.amazon.com/adidas-Retail-Silver-MET%E2%9D%97%EF%B8%8FShips-Directly/dp/B07BHKZC3Z/ref=sr_1_50?dchild=1&keywords=men&qid=1573470336&rnid=2476517011&s=apparel&sr=1-50\n",
      "https://www.amazon.com/Champion-Double-Action-Fleece-Black/dp/B007ASN8FE/ref=sr_1_51?dchild=1&keywords=men&qid=1573470336&rnid=2476517011&s=apparel&sr=1-51\n",
      "https://www.amazon.com/Y2Y2-Sleeveless-V-Neck-T-Shirt-Black/dp/B0135S800U/ref=sr_1_52?dchild=1&keywords=men&qid=1573470336&rnid=2476517011&s=apparel&sr=1-52\n"
     ]
    },
    {
     "ename": "KeyboardInterrupt",
     "evalue": "",
     "output_type": "error",
     "traceback": [
      "\u001b[1;31m---------------------------------------------------------------------------\u001b[0m",
      "\u001b[1;31mKeyboardInterrupt\u001b[0m                         Traceback (most recent call last)",
      "\u001b[1;32m<ipython-input-20-c9ae3684f68a>\u001b[0m in \u001b[0;36m<module>\u001b[1;34m\u001b[0m\n\u001b[0;32m      9\u001b[0m         \u001b[1;32mtry\u001b[0m\u001b[1;33m:\u001b[0m\u001b[1;33m\u001b[0m\u001b[1;33m\u001b[0m\u001b[0m\n\u001b[0;32m     10\u001b[0m             \u001b[0mopen_product_detail_page\u001b[0m\u001b[1;33m(\u001b[0m\u001b[0mproduct_url\u001b[0m\u001b[1;33m)\u001b[0m\u001b[1;33m\u001b[0m\u001b[1;33m\u001b[0m\u001b[0m\n\u001b[1;32m---> 11\u001b[1;33m             \u001b[0mselect_swatch_elements\u001b[0m\u001b[1;33m(\u001b[0m\u001b[0midx\u001b[0m\u001b[1;33m)\u001b[0m\u001b[1;33m\u001b[0m\u001b[1;33m\u001b[0m\u001b[0m\n\u001b[0m\u001b[0;32m     12\u001b[0m             \u001b[1;32mpass\u001b[0m\u001b[1;33m\u001b[0m\u001b[1;33m\u001b[0m\u001b[0m\n\u001b[0;32m     13\u001b[0m         \u001b[1;32mexcept\u001b[0m \u001b[0mException\u001b[0m \u001b[1;32mas\u001b[0m \u001b[0me\u001b[0m\u001b[1;33m:\u001b[0m\u001b[1;33m\u001b[0m\u001b[1;33m\u001b[0m\u001b[0m\n",
      "\u001b[1;32m<ipython-input-18-66234bee598a>\u001b[0m in \u001b[0;36mselect_swatch_elements\u001b[1;34m(product_number)\u001b[0m\n\u001b[0;32m     21\u001b[0m             \u001b[0mtime\u001b[0m\u001b[1;33m.\u001b[0m\u001b[0msleep\u001b[0m\u001b[1;33m(\u001b[0m\u001b[0mrandom_click_time\u001b[0m\u001b[1;33m)\u001b[0m\u001b[1;33m\u001b[0m\u001b[1;33m\u001b[0m\u001b[0m\n\u001b[0;32m     22\u001b[0m             \u001b[0mselected_product_number\u001b[0m \u001b[1;33m=\u001b[0m \u001b[0mstr\u001b[0m\u001b[1;33m(\u001b[0m\u001b[0mproduct_number\u001b[0m\u001b[1;33m)\u001b[0m\u001b[1;33m+\u001b[0m\u001b[1;34m'-'\u001b[0m\u001b[1;33m+\u001b[0m\u001b[0mstr\u001b[0m\u001b[1;33m(\u001b[0m\u001b[0mdata_default_asin_idx\u001b[0m\u001b[1;33m)\u001b[0m\u001b[1;33m\u001b[0m\u001b[1;33m\u001b[0m\u001b[0m\n\u001b[1;32m---> 23\u001b[1;33m             \u001b[0mdownload_product_detail_images\u001b[0m\u001b[1;33m(\u001b[0m\u001b[0mselected_product_number\u001b[0m\u001b[1;33m)\u001b[0m\u001b[1;33m\u001b[0m\u001b[1;33m\u001b[0m\u001b[0m\n\u001b[0m\u001b[0;32m     24\u001b[0m \u001b[1;33m\u001b[0m\u001b[0m\n\u001b[0;32m     25\u001b[0m \u001b[1;33m\u001b[0m\u001b[0m\n",
      "\u001b[1;32m<ipython-input-10-b8eeb019600f>\u001b[0m in \u001b[0;36mdownload_product_detail_images\u001b[1;34m(number)\u001b[0m\n\u001b[0;32m     27\u001b[0m \u001b[1;33m\u001b[0m\u001b[0m\n\u001b[0;32m     28\u001b[0m \u001b[1;33m\u001b[0m\u001b[0m\n\u001b[1;32m---> 29\u001b[1;33m         \u001b[0mtime\u001b[0m\u001b[1;33m.\u001b[0m\u001b[0msleep\u001b[0m\u001b[1;33m(\u001b[0m\u001b[0mrandom_load_time\u001b[0m\u001b[1;33m)\u001b[0m\u001b[1;33m\u001b[0m\u001b[1;33m\u001b[0m\u001b[0m\n\u001b[0m",
      "\u001b[1;31mKeyboardInterrupt\u001b[0m: "
     ]
    }
   ],
   "source": [
    "while page<page_limit:\n",
    "    \n",
    "    random_next_page_time = randint(5,10)\n",
    "    \n",
    "    product_urls = get_product_urls()\n",
    "\n",
    "    for idx,product_url  in enumerate(product_urls):\n",
    "        random_open_time = randint(2,4)\n",
    "        try:\n",
    "            open_product_detail_page(product_url)\n",
    "            select_swatch_elements(idx)\n",
    "            pass\n",
    "        except Exception as e:\n",
    "            print(e)\n",
    "        driver.switch_to.window(driver.window_handles[0])\n",
    "        time.sleep(random_open_time)\n",
    "\n",
    "    go_to_next_page()\n",
    "    time.sleep(random_next_page_time)\n",
    "    page += 1"
   ]
  },
  {
   "cell_type": "code",
   "execution_count": 19,
   "metadata": {},
   "outputs": [],
   "source": [
    "driver.switch_to.window(driver.window_handles[0])"
   ]
  },
  {
   "cell_type": "code",
   "execution_count": null,
   "metadata": {},
   "outputs": [],
   "source": [
    "driver.close()"
   ]
  },
  {
   "cell_type": "code",
   "execution_count": null,
   "metadata": {},
   "outputs": [],
   "source": []
  }
 ],
 "metadata": {
  "kernelspec": {
   "display_name": "Python 3",
   "language": "python",
   "name": "python3"
  },
  "language_info": {
   "codemirror_mode": {
    "name": "ipython",
    "version": 3
   },
   "file_extension": ".py",
   "mimetype": "text/x-python",
   "name": "python",
   "nbconvert_exporter": "python",
   "pygments_lexer": "ipython3",
   "version": "3.7.1"
  }
 },
 "nbformat": 4,
 "nbformat_minor": 2
}
