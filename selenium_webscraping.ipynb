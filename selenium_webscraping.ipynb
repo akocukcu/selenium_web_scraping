{
 "cells": [
  {
   "cell_type": "code",
   "execution_count": null,
   "metadata": {},
   "outputs": [],
   "source": [
    "!pip install selenium"
   ]
  },
  {
   "cell_type": "code",
   "execution_count": 1,
   "metadata": {},
   "outputs": [],
   "source": [
    "from selenium import webdriver\n",
    "import pandas as pd\n",
    "import time\n",
    "import urllib\n",
    "from random import randint\n",
    "from selenium.webdriver.common.keys import Keys\n",
    "from selenium.webdriver.common.action_chains import ActionChains"
   ]
  },
  {
   "cell_type": "code",
   "execution_count": 2,
   "metadata": {},
   "outputs": [],
   "source": [
    "driver = webdriver.Chrome('C:/Users/akocukcu/Documents/chromedriver/chromedriver.exe')"
   ]
  },
  {
   "cell_type": "code",
   "execution_count": 3,
   "metadata": {},
   "outputs": [],
   "source": [
    "driver.get('https://www.amazon.com/')"
   ]
  },
  {
   "cell_type": "code",
   "execution_count": 4,
   "metadata": {},
   "outputs": [],
   "source": [
    "menu_item = driver.find_element_by_xpath(\"//*[@id='searchDropdownBox']/option[@value='search-alias=fashion']\")\n",
    "menu_item.click()"
   ]
  },
  {
   "cell_type": "code",
   "execution_count": 5,
   "metadata": {},
   "outputs": [],
   "source": [
    "search_bar = driver.find_element_by_xpath(\"//*[@id='twotabsearchtextbox']\")\n",
    "search_bar.send_keys(\"camouflage\")"
   ]
  },
  {
   "cell_type": "code",
   "execution_count": 6,
   "metadata": {},
   "outputs": [],
   "source": [
    "submit_button = driver.find_element_by_xpath(\"//*[@value='Go']\")\n",
    "submit_button.click()"
   ]
  },
  {
   "cell_type": "code",
   "execution_count": 7,
   "metadata": {},
   "outputs": [],
   "source": [
    "page = 1"
   ]
  },
  {
   "cell_type": "code",
   "execution_count": 8,
   "metadata": {},
   "outputs": [
    {
     "data": {
      "text/plain": [
       "66"
      ]
     },
     "execution_count": 8,
     "metadata": {},
     "output_type": "execute_result"
    }
   ],
   "source": [
    "products = driver.find_elements_by_css_selector(\"#search > div.sg-row > div.sg-col-20-of-24.sg-col-28-of-32.sg-col-16-of-20.sg-col.s-right-column.sg-col-32-of-36.sg-col-8-of-12.sg-col-12-of-16.sg-col-24-of-28 > div > span:nth-child(4) > div.s-result-list.sg-row > div\")\n",
    "\n",
    "len(products)"
   ]
  },
  {
   "cell_type": "code",
   "execution_count": 9,
   "metadata": {},
   "outputs": [],
   "source": [
    "real_products = []"
   ]
  },
  {
   "cell_type": "code",
   "execution_count": 10,
   "metadata": {},
   "outputs": [],
   "source": [
    "for idx, product in enumerate(products):\n",
    "    if \"AdHolder\" not in product.get_attribute(\"class\") and product.get_attribute(\"data-index\") is not None and \"search_result_\" in product.get_attribute(\"data-cel-widget\"):\n",
    "        real_products.append(product)"
   ]
  },
  {
   "cell_type": "code",
   "execution_count": 14,
   "metadata": {},
   "outputs": [
    {
     "data": {
      "text/plain": [
       "51"
      ]
     },
     "execution_count": 14,
     "metadata": {},
     "output_type": "execute_result"
    }
   ],
   "source": [
    "len(real_products)\n",
    "#real_products[0].get_attribute(\"data-asin\")"
   ]
  },
  {
   "cell_type": "code",
   "execution_count": 15,
   "metadata": {},
   "outputs": [],
   "source": [
    "product_urls = []"
   ]
  },
  {
   "cell_type": "code",
   "execution_count": 16,
   "metadata": {},
   "outputs": [],
   "source": [
    "for real_product in real_products:\n",
    "    product_anchor = real_product.find_element_by_css_selector(\"div > div > div > div:nth-child(2) > div:nth-child(1) > div > div > span > a\")\n",
    "    product_url =  product_anchor.get_attribute(\"href\")\n",
    "    product_urls.append(product_url)"
   ]
  },
  {
   "cell_type": "code",
   "execution_count": 17,
   "metadata": {},
   "outputs": [
    {
     "data": {
      "text/plain": [
       "['https://www.amazon.com/Match-Mens-Wild-Cargo-Pants/dp/B00D05UDUY/ref=sr_1_3?keywords=camouflage&qid=1551895707&s=apparel&sr=1-3',\n",
       " 'https://www.amazon.com/TwiinSisters-Womens-Color-Jogger-Matching/dp/B07B6DMNW5/ref=sr_1_4?keywords=camouflage&qid=1551895707&s=apparel&sr=1-4',\n",
       " 'https://www.amazon.com/Casual-Jogger-Sweatpants-Fleece-Elastic/dp/B076VH9CTJ/ref=sr_1_5?keywords=camouflage&qid=1551895707&s=apparel&sr=1-5',\n",
       " 'https://www.amazon.com/AKARMY-Cotton-Casual-Military-Combat/dp/B01N6OX8DR/ref=sr_1_6?keywords=camouflage&qid=1551895707&s=apparel&sr=1-6',\n",
       " 'https://www.amazon.com/GERINLY-Scarves-Lightweight-Winter-Camouflage/dp/B075KH6K49/ref=sr_1_7?keywords=camouflage&qid=1551895707&s=apparel&sr=1-7',\n",
       " 'https://www.amazon.com/Match-Cargo-Pants-32-Camouflage/dp/B00D05UDUY/ref=sr_1_3?keywords=camouflage&qid=1551895707&s=apparel&sr=1-3',\n",
       " 'https://www.amazon.com/Leggings-Depot-Womens-Printed-Fashion/dp/B015DI03BE/ref=sr_1_9?keywords=camouflage&qid=1551895707&s=apparel&sr=1-9',\n",
       " 'https://www.amazon.com/North-Face-Mens-Thermoball-Vest/dp/B07FKKBG7N/ref=sr_1_10?keywords=camouflage&qid=1551895707&s=apparel&sr=1-10',\n",
       " 'https://www.amazon.com/North-Face-Mens-Thermoball-Hoodie/dp/B07FPP4LQJ/ref=sr_1_11?keywords=camouflage&qid=1551895707&s=apparel&sr=1-11',\n",
       " 'https://www.amazon.com/VIV-Collection-Popular-Printed-Leggings/dp/B00O2AZ75C/ref=sr_1_12?keywords=camouflage&qid=1551895707&s=apparel&sr=1-12',\n",
       " 'https://www.amazon.com/Amazon-Essentials-Full-Zip-Fleece-Jacket/dp/B079LL2Y6W/ref=sr_1_8?keywords=camouflage&qid=1551895707&s=apparel&sr=1-8',\n",
       " 'https://www.amazon.com/Birkenstock-Arizona-Footbed-Unisex-Camouflage-Brown/dp/B07FKDH9N3/ref=sr_1_13?keywords=camouflage&qid=1551895707&s=apparel&sr=1-13',\n",
       " 'https://www.amazon.com/Levis-Boys-Chino-Jogger-Pants/dp/B004Q7YL1M/ref=sr_1_14?keywords=camouflage&qid=1551895707&s=apparel&sr=1-14',\n",
       " 'https://www.amazon.com/AlvaQ-Quarter-Pullover-Sweatshirt-Pockets/dp/B07HN1M9Y9/ref=sr_1_17?keywords=camouflage&qid=1551895707&s=apparel&sr=1-17',\n",
       " 'https://www.amazon.com/Casual-Sweatshirt-Sleeve-Pullover-Jumper/dp/B07K1HR74V/ref=sr_1_18?keywords=camouflage&qid=1551895707&s=apparel&sr=1-18',\n",
       " 'https://www.amazon.com/K-Bell-Socks-Olive-Camouflage/dp/B00UNRU46A/ref=sr_1_19?keywords=camouflage&qid=1551895707&s=apparel&sr=1-19',\n",
       " 'https://www.amazon.com/THANTH-Camouflage-Pullover-Sweatshirt-Pockets/dp/B01LLJQARA/ref=sr_1_20?keywords=camouflage&qid=1551895707&s=apparel&sr=1-20',\n",
       " 'https://www.amazon.com/Birkenstock-Arizona-Footbed-Leather-Sandal/dp/B07FKCK362/ref=sr_1_21?keywords=camouflage&qid=1551895707&s=apparel&sr=1-21',\n",
       " 'https://www.amazon.com/Bright-Unisex-Lighted-Beanie-charging%EF%BC%89/dp/B075V4KWWN/ref=sr_1_22?keywords=camouflage&qid=1551895707&s=apparel&sr=1-22',\n",
       " 'https://www.amazon.com/SweatyRocks-Camouflage-Womens-Workout-Shorts/dp/B01KNW8C86/ref=sr_1_23?keywords=camouflage&qid=1551895707&s=apparel&sr=1-23',\n",
       " 'https://www.amazon.com/Taiduosheng-Hoodies-Camouflage-Pullover-Sweatshirt/dp/B071HSRPHH/ref=sr_1_24?keywords=camouflage&qid=1551895707&s=apparel&sr=1-24',\n",
       " 'https://www.amazon.com/Awesome21-Womens-Boyfriend-Over-Sized-Utility/dp/B07JVCB13V/ref=sr_1_25?keywords=camouflage&qid=1551895707&s=apparel&sr=1-25',\n",
       " 'https://www.amazon.com/Nonwe-Beachwear-Summer-Holiday-Striped/dp/B07MKBGZ2N/ref=sr_1_26?keywords=camouflage&qid=1551895707&s=apparel&sr=1-26',\n",
       " 'https://www.amazon.com/Global-Lightweight-Hoodie-Hooded-Sweatshirt/dp/B078GDBWZZ/ref=sr_1_31?keywords=camouflage&qid=1551895707&s=apparel&sr=1-31',\n",
       " 'https://www.amazon.com/CINAK-Military-Waterproof-Mid-Calf-Motorcycle/dp/B07HP8B1TM/ref=sr_1_32?keywords=camouflage&qid=1551895707&s=apparel&sr=1-32',\n",
       " 'https://www.amazon.com/Camouflage-Waterproof-Electronic-Military-Stopwatch/dp/B01M70UP81/ref=sr_1_34?keywords=camouflage&qid=1551895707&s=apparel&sr=1-34',\n",
       " 'https://www.amazon.com/Global-Lightweight-Hoodie-Women-Camouflage/dp/B078GDBWZZ/ref=sr_1_31?keywords=camouflage&qid=1551895707&s=apparel&sr=1-31',\n",
       " 'https://www.amazon.com/Joes-USA-Camo-Camouflage-Shirts-Sizes/dp/B00SAFANUY/ref=sr_1_33?keywords=camouflage&qid=1551895707&s=apparel&sr=1-33',\n",
       " 'https://www.amazon.com/Joes-USA-Military-Camo-Camouflage-Shirts-M/dp/B00SAFANUY/ref=sr_1_33?keywords=camouflage&qid=1551895707&s=apparel&sr=1-33',\n",
       " 'https://www.amazon.com/Outfits-Jumpsuits-Shoulder-Sweatsuits-Tracksuits/dp/B07M91MF24/ref=sr_1_38?keywords=camouflage&qid=1551895707&s=apparel&sr=1-38',\n",
       " 'https://www.amazon.com/Womens-Floral-Camouflage-Printed-Racer-Back/dp/B07P5JWFB8/ref=sr_1_35?keywords=camouflage&qid=1551895707&s=apparel&sr=1-35',\n",
       " 'https://www.amazon.com/KBETHOS-Classic-Baseball-Adjustable-Unconstructed/dp/B00K7JAMJS/ref=sr_1_36?keywords=camouflage&qid=1551895707&s=apparel&sr=1-36',\n",
       " 'https://www.amazon.com/TeeHee-Fashion-Cotton-Socks-5-Pack/dp/B017RQDGR8/ref=sr_1_37?keywords=camouflage&qid=1551895707&s=apparel&sr=1-37',\n",
       " 'https://www.amazon.com/Hybrid-Womens-Super-Stretch-Skinny/dp/B06WRX2Q1J/ref=sr_1_39?keywords=camouflage&qid=1551895707&s=apparel&sr=1-39',\n",
       " 'https://www.amazon.com/Rothco-6397MED-Kids-T-Shirt/dp/B00024BM6K/ref=sr_1_40?keywords=camouflage&qid=1551895707&s=apparel&sr=1-40',\n",
       " 'https://www.amazon.com/New-Balance-L4040v4-Metal-Baseball/dp/B01MRN3JCU/ref=sr_1_41?keywords=camouflage&qid=1551895707&s=apparel&sr=1-41',\n",
       " 'https://www.amazon.com/Carhartt-Active-Taffeta-Quilt-Jacket/dp/B00FYARWYI/ref=sr_1_42?keywords=camouflage&qid=1551895707&s=apparel&sr=1-42',\n",
       " 'https://www.amazon.com/Dreamskull-Camouflage-Fleece-Hoodie-Heavyweight/dp/B01N2T2X2X/ref=sr_1_43?keywords=camouflage&qid=1551895707&s=apparel&sr=1-43',\n",
       " 'https://www.amazon.com/sexycherry-Camouflage-Lightweight-Sleeves-Military/dp/B01M3RC2RQ/ref=sr_1_44?keywords=camouflage&qid=1551895707&s=apparel&sr=1-44',\n",
       " 'https://www.amazon.com/New-Balance-L4040v4-Metal-Baseball/dp/B01N66HDWK/ref=sr_1_45?keywords=camouflage&qid=1551895707&s=apparel&sr=1-45',\n",
       " 'https://www.amazon.com/Dokotoo-Womens-Distressed-Jumpsuit-Overalls/dp/B07L49M3NQ/ref=sr_1_46?keywords=camouflage&qid=1551895707&s=apparel&sr=1-46',\n",
       " 'https://www.amazon.com/Rothco-613902021211-Long-Sleeve-T-Shirt/dp/B000JORFO6/ref=sr_1_15?keywords=camouflage&qid=1551895707&s=apparel&sr=1-15',\n",
       " 'https://www.amazon.com/Waterproof-Camouflage-Military-Tactical-camouflage/dp/B01M24B0VT/ref=sr_1_51?keywords=camouflage&qid=1551895707&s=apparel&sr=1-51',\n",
       " 'https://www.amazon.com/BTFBM-Camouflage-Sleeve-Sweatshirt-Pullover/dp/B07JKMNRR4/ref=sr_1_52?keywords=camouflage&qid=1551895707&s=apparel&sr=1-52',\n",
       " 'https://www.amazon.com/Outdoor-Waterproof-Windproof-Snowboard-Mountain/dp/B07HNNN8B2/ref=sr_1_53?keywords=camouflage&qid=1551895707&s=apparel&sr=1-53',\n",
       " 'https://www.amazon.com/Wasabi-Mint-Womens-Cropped-Jumpsuit/dp/B07DRNZ195/ref=sr_1_54?keywords=camouflage&qid=1551895707&s=apparel&sr=1-54',\n",
       " 'https://www.amazon.com/Forever-Link-Womens-Military-Combat/dp/B07ND3NMHZ/ref=sr_1_16?keywords=camouflage&qid=1551895707&s=apparel&sr=1-16',\n",
       " 'https://www.amazon.com/Collection-Athletic-Fashion-Breathable-Sneakers/dp/B07ND3TZJN/ref=sr_1_47?keywords=camouflage&qid=1551895707&s=apparel&sr=1-47',\n",
       " 'https://www.amazon.com/AKARMY-Womens-Casual-Camouflage-Pockets/dp/B0719TPMFS/ref=sr_1_48?keywords=camouflage&qid=1551895707&s=apparel&sr=1-48',\n",
       " 'https://www.amazon.com/Realtree-Northern-Trail-Camouflage-Moccasin/dp/B01N3LSYFG/ref=sr_1_49?keywords=camouflage&qid=1551895707&s=apparel&sr=1-49',\n",
       " 'https://www.amazon.com/1st-Choice-Camouflage-Drawstring-Bags/dp/B004K3AHGU/ref=sr_1_50?keywords=camouflage&qid=1551895707&s=apparel&sr=1-50']"
      ]
     },
     "execution_count": 17,
     "metadata": {},
     "output_type": "execute_result"
    }
   ],
   "source": [
    "product_urls"
   ]
  },
  {
   "cell_type": "code",
   "execution_count": 18,
   "metadata": {},
   "outputs": [],
   "source": [
    "driver.switch_to.window(driver.window_handles[1])"
   ]
  },
  {
   "cell_type": "code",
   "execution_count": 19,
   "metadata": {},
   "outputs": [],
   "source": [
    "first_product_url = product_urls[0]"
   ]
  },
  {
   "cell_type": "code",
   "execution_count": 20,
   "metadata": {},
   "outputs": [],
   "source": [
    "driver.get(first_product_url)"
   ]
  },
  {
   "cell_type": "code",
   "execution_count": 21,
   "metadata": {},
   "outputs": [],
   "source": [
    "hover_elements = driver.find_elements_by_css_selector(\"li.a-spacing-small.item.imageThumbnail.a-declarative\")"
   ]
  },
  {
   "cell_type": "code",
   "execution_count": 22,
   "metadata": {},
   "outputs": [],
   "source": [
    "for idx, hover_element in enumerate(hover_elements):\n",
    "    random_hover_time = randint(2,4)\n",
    "    hover_action = ActionChains(driver).move_to_element(hover_element)\n",
    "    hover_action.perform()\n",
    "    time.sleep(random_hover_time)"
   ]
  },
  {
   "cell_type": "code",
   "execution_count": 23,
   "metadata": {},
   "outputs": [],
   "source": [
    "hires_images =  driver.find_elements_by_css_selector(\"#main-image-container > ul > li.maintain-height > span > span > div > img\")"
   ]
  },
  {
   "cell_type": "code",
   "execution_count": 24,
   "metadata": {},
   "outputs": [
    {
     "data": {
      "text/plain": [
       "[<selenium.webdriver.remote.webelement.WebElement (session=\"ec99f2ffd3f6160410754b7a5f4a66c8\", element=\"0.6153407399847266-8\")>,\n",
       " <selenium.webdriver.remote.webelement.WebElement (session=\"ec99f2ffd3f6160410754b7a5f4a66c8\", element=\"0.6153407399847266-9\")>,\n",
       " <selenium.webdriver.remote.webelement.WebElement (session=\"ec99f2ffd3f6160410754b7a5f4a66c8\", element=\"0.6153407399847266-10\")>,\n",
       " <selenium.webdriver.remote.webelement.WebElement (session=\"ec99f2ffd3f6160410754b7a5f4a66c8\", element=\"0.6153407399847266-11\")>,\n",
       " <selenium.webdriver.remote.webelement.WebElement (session=\"ec99f2ffd3f6160410754b7a5f4a66c8\", element=\"0.6153407399847266-12\")>,\n",
       " <selenium.webdriver.remote.webelement.WebElement (session=\"ec99f2ffd3f6160410754b7a5f4a66c8\", element=\"0.6153407399847266-13\")>,\n",
       " <selenium.webdriver.remote.webelement.WebElement (session=\"ec99f2ffd3f6160410754b7a5f4a66c8\", element=\"0.6153407399847266-14\")>]"
      ]
     },
     "execution_count": 24,
     "metadata": {},
     "output_type": "execute_result"
    }
   ],
   "source": [
    "hires_images"
   ]
  },
  {
   "cell_type": "code",
   "execution_count": 27,
   "metadata": {},
   "outputs": [],
   "source": [
    "for idx,hires_image in enumerate(hires_images):\n",
    "    random_load_time = randint(3,9)\n",
    "    urllib.request.urlretrieve(hires_image.get_attribute(\"data-old-hires\"),filename='B07CKZHM9Q'+'-'+str(idx)+'.jpg')\n",
    "    time.sleep(random_load_time)"
   ]
  },
  {
   "cell_type": "code",
   "execution_count": 31,
   "metadata": {},
   "outputs": [],
   "source": [
    "driver.switch_to.window(driver.window_handles[0])"
   ]
  },
  {
   "cell_type": "code",
   "execution_count": null,
   "metadata": {},
   "outputs": [],
   "source": []
  },
  {
   "cell_type": "code",
   "execution_count": 32,
   "metadata": {},
   "outputs": [],
   "source": [
    "driver.close()"
   ]
  }
 ],
 "metadata": {
  "kernelspec": {
   "display_name": "Python 3",
   "language": "python",
   "name": "python3"
  },
  "language_info": {
   "codemirror_mode": {
    "name": "ipython",
    "version": 3
   },
   "file_extension": ".py",
   "mimetype": "text/x-python",
   "name": "python",
   "nbconvert_exporter": "python",
   "pygments_lexer": "ipython3",
   "version": "3.6.8"
  }
 },
 "nbformat": 4,
 "nbformat_minor": 2
}
