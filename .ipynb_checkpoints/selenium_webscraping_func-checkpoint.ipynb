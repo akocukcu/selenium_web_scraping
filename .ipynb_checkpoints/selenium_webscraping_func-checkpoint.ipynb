{
 "cells": [
  {
   "cell_type": "code",
   "execution_count": 3,
   "metadata": {},
   "outputs": [],
   "source": [
    "from selenium import webdriver\n",
    "import pandas as pd\n",
    "import time\n",
    "import requests\n",
    "from random import randint\n",
    "from selenium.webdriver.common.keys import Keys\n",
    "from selenium.webdriver.common.action_chains import ActionChains"
   ]
  },
  {
   "cell_type": "code",
   "execution_count": 5,
   "metadata": {},
   "outputs": [],
   "source": [
    "driver = webdriver.Chrome('C:/Users/akocukcu/Documents/chromedriver/chromedriver.exe')"
   ]
  },
  {
   "cell_type": "code",
   "execution_count": 6,
   "metadata": {},
   "outputs": [],
   "source": [
    "sub_category_list = ['Men','Clothing','Shorts']"
   ]
  },
  {
   "cell_type": "code",
   "execution_count": 7,
   "metadata": {},
   "outputs": [],
   "source": [
    "page = 1\n",
    "page_limit = 10"
   ]
  },
  {
   "cell_type": "code",
   "execution_count": 8,
   "metadata": {},
   "outputs": [],
   "source": [
    "def open_homepage():\n",
    "    driver.get('https://www.amazon.com/')\n",
    "    driver.maximize_window()"
   ]
  },
  {
   "cell_type": "code",
   "execution_count": 9,
   "metadata": {},
   "outputs": [],
   "source": [
    "def open_camo_search_results():\n",
    "    menu_item = driver.find_element_by_xpath(\"//*[@id='searchDropdownBox']/option[@value='search-alias=fashion']\")\n",
    "    menu_item.click()\n",
    "\n",
    "    search_bar = driver.find_element_by_xpath(\"//*[@id='twotabsearchtextbox']\")\n",
    "    search_bar.send_keys(\"camouflage\")\n",
    "\n",
    "    submit_button = driver.find_element_by_xpath(\"//*[@value='Go']\")\n",
    "    submit_button.click()"
   ]
  },
  {
   "cell_type": "code",
   "execution_count": 10,
   "metadata": {},
   "outputs": [],
   "source": [
    "def get_product_urls():\n",
    "\n",
    "    real_products = []\n",
    "    product_urls = []\n",
    "\n",
    "    products = driver.find_elements_by_css_selector(\"#search > div.sg-row > div.sg-col-20-of-24.sg-col-28-of-32.sg-col-16-of-20.sg-col.s-right-column.sg-col-32-of-36.sg-col-8-of-12.sg-col-12-of-16.sg-col-24-of-28 > div > span:nth-child(4) > div.s-result-list.sg-row > div\")\n",
    "    print(\"product count : \",len(products))\n",
    "    for idx, product in enumerate(products):\n",
    "        if \"AdHolder\" not in product.get_attribute(\"class\") and product.get_attribute(\"data-index\") is not None and \"search_result_\" in product.get_attribute(\"data-cel-widget\"):\n",
    "            real_products.append(product)\n",
    "\n",
    "    print(\"real product count : \",len(real_products))\n",
    "    #print(real_products[0].get_attribute(\"data-asin\"))\n",
    "\n",
    "    for real_product in real_products:\n",
    "        product_anchor = real_product.find_element_by_css_selector(\"div > div > div > div:nth-child(2) > div:nth-child(1) > div > div > span > a\")\n",
    "        product_url =  product_anchor.get_attribute(\"href\")\n",
    "        product_urls.append(product_url)\n",
    "\n",
    "    return product_urls"
   ]
  },
  {
   "cell_type": "code",
   "execution_count": 11,
   "metadata": {},
   "outputs": [],
   "source": [
    "def open_product_detail_page(product_url):\n",
    "    driver.switch_to.window(driver.window_handles[1])\n",
    "    driver.get(product_url)"
   ]
  },
  {
   "cell_type": "code",
   "execution_count": 16,
   "metadata": {},
   "outputs": [],
   "source": [
    "def download_product_detail_images(number):\n",
    "    hover_elements = driver.find_elements_by_css_selector(\"li.a-spacing-small.item.imageThumbnail.a-declarative\")\n",
    "\n",
    "    for idx, hover_element in enumerate(hover_elements):\n",
    "        random_hover_time = randint(2,4)\n",
    "        hover_action = ActionChains(driver).move_to_element(hover_element)\n",
    "        hover_action.perform()\n",
    "        time.sleep(random_hover_time)\n",
    "\n",
    "    hires_images =  driver.find_elements_by_css_selector(\"#main-image-container > ul > li.maintain-height > span > span > div > img\")\n",
    "\n",
    "\n",
    "    for idx,hires_image in enumerate(hires_images):\n",
    "        random_load_time = randint(3,9)\n",
    "        \n",
    "        try:\n",
    "            my_image_url = hires_image.get_attribute(\"data-old-hires\")\n",
    "            my_image_filename='images/'+str(page)+'-'+str(number)+'-'+str(idx)+'.jpg'\n",
    "            my_response = requests.get(url=my_image_url, stream=True, timeout=20)\n",
    "            if my_response.status_code == 200:\n",
    "                with open(my_image_filename, 'wb') as my_file:\n",
    "                    my_file.write(my_response.content)\n",
    "                del my_response\n",
    "            pass\n",
    "        except Exception as e:\n",
    "            print(e)\n",
    "        \n",
    "        \n",
    "        time.sleep(random_load_time)"
   ]
  },
  {
   "cell_type": "code",
   "execution_count": 13,
   "metadata": {},
   "outputs": [],
   "source": [
    "def go_to_next_page():\n",
    "    next_page_button = driver.find_element_by_css_selector(\"#search > div.sg-row > div.sg-col-20-of-24.sg-col-28-of-32.sg-col-16-of-20.sg-col.s-right-column.sg-col-32-of-36.sg-col-8-of-12.sg-col-12-of-16.sg-col-24-of-28 > div > span:nth-child(9) > div > div > div > ul > li.a-last > a\")\n",
    "    next_page_button.click()"
   ]
  },
  {
   "cell_type": "code",
   "execution_count": 14,
   "metadata": {},
   "outputs": [],
   "source": [
    "def go_to_sub_category(sub_category):\n",
    "    nav_links = products = driver.find_elements_by_css_selector(\"#departments > ul.a-unordered-list.a-nostyle.a-vertical.a-spacing-medium > li\")\n",
    "    for nav_link in nav_links:\n",
    "        # we check whether this element exists. As SO suggested we should use find_element\"S\"\n",
    "        # https://stackoverflow.com/a/36166132\n",
    "        if nav_link.find_elements_by_css_selector(\"span > a\"):\n",
    "            nav_link_item = nav_link.find_element_by_css_selector(\"span > a\")\n",
    "            nav_link_url = nav_link_item.get_attribute(\"href\")\n",
    "            nav_link_text = nav_link_item.find_element_by_css_selector(\"span\").text\n",
    "            if nav_link_text == sub_category:\n",
    "                nav_link_item.click()"
   ]
  },
  {
   "cell_type": "code",
   "execution_count": 15,
   "metadata": {},
   "outputs": [],
   "source": [
    "open_homepage()"
   ]
  },
  {
   "cell_type": "code",
   "execution_count": 17,
   "metadata": {},
   "outputs": [],
   "source": [
    "driver.execute_script(\"window.open('','_blank');\")\n",
    "driver.switch_to.window(driver.window_handles[0])"
   ]
  },
  {
   "cell_type": "code",
   "execution_count": 21,
   "metadata": {},
   "outputs": [],
   "source": [
    "open_camo_search_results()"
   ]
  },
  {
   "cell_type": "code",
   "execution_count": 22,
   "metadata": {},
   "outputs": [
    {
     "name": "stdout",
     "output_type": "stream",
     "text": [
      "Message: stale element reference: element is not attached to the page document\n",
      "  (Session info: chrome=73.0.3683.103)\n",
      "  (Driver info: chromedriver=2.46.628402 (536cd7adbad73a3783fdc2cab92ab2ba7ec361e1),platform=Windows NT 10.0.17134 x86_64)\n",
      "\n",
      "Message: stale element reference: element is not attached to the page document\n",
      "  (Session info: chrome=73.0.3683.103)\n",
      "  (Driver info: chromedriver=2.46.628402 (536cd7adbad73a3783fdc2cab92ab2ba7ec361e1),platform=Windows NT 10.0.17134 x86_64)\n",
      "\n",
      "Message: stale element reference: element is not attached to the page document\n",
      "  (Session info: chrome=73.0.3683.103)\n",
      "  (Driver info: chromedriver=2.46.628402 (536cd7adbad73a3783fdc2cab92ab2ba7ec361e1),platform=Windows NT 10.0.17134 x86_64)\n",
      "\n"
     ]
    }
   ],
   "source": [
    "for sub_category in sub_category_list:\n",
    "    random_sub_category_page_time = randint(5,10)\n",
    "    try:\n",
    "        go_to_sub_category(sub_category)\n",
    "        time.sleep(random_next_page_time)\n",
    "    except Exception as e:\n",
    "        print(e)"
   ]
  },
  {
   "cell_type": "code",
   "execution_count": 23,
   "metadata": {
    "scrolled": true
   },
   "outputs": [
    {
     "name": "stdout",
     "output_type": "stream",
     "text": [
      "product count :  60\n",
      "real product count :  48\n",
      "Invalid URL 'None': No schema supplied. Perhaps you meant http://None?\n",
      "Invalid URL 'None': No schema supplied. Perhaps you meant http://None?\n",
      "Invalid URL 'None': No schema supplied. Perhaps you meant http://None?\n",
      "Invalid URL 'None': No schema supplied. Perhaps you meant http://None?\n",
      "Invalid URL 'None': No schema supplied. Perhaps you meant http://None?\n",
      "Invalid URL 'None': No schema supplied. Perhaps you meant http://None?\n",
      "Invalid URL 'None': No schema supplied. Perhaps you meant http://None?\n",
      "Invalid URL 'None': No schema supplied. Perhaps you meant http://None?\n",
      "product count :  60\n",
      "real product count :  48\n",
      "Invalid URL 'None': No schema supplied. Perhaps you meant http://None?\n",
      "Invalid URL 'None': No schema supplied. Perhaps you meant http://None?\n",
      "Invalid URL 'None': No schema supplied. Perhaps you meant http://None?\n",
      "Invalid URL 'None': No schema supplied. Perhaps you meant http://None?\n",
      "product count :  60\n",
      "real product count :  48\n",
      "Invalid URL 'None': No schema supplied. Perhaps you meant http://None?\n",
      "Invalid URL 'None': No schema supplied. Perhaps you meant http://None?\n",
      "Invalid URL 'None': No schema supplied. Perhaps you meant http://None?\n",
      "Invalid URL 'None': No schema supplied. Perhaps you meant http://None?\n",
      "Invalid URL 'None': No schema supplied. Perhaps you meant http://None?\n",
      "Invalid URL 'None': No schema supplied. Perhaps you meant http://None?\n",
      "Invalid URL 'None': No schema supplied. Perhaps you meant http://None?\n",
      "Invalid URL 'None': No schema supplied. Perhaps you meant http://None?\n",
      "Invalid URL 'None': No schema supplied. Perhaps you meant http://None?\n",
      "Invalid URL 'None': No schema supplied. Perhaps you meant http://None?\n",
      "product count :  60\n",
      "real product count :  48\n",
      "Invalid URL '': No schema supplied. Perhaps you meant http://?\n",
      "Invalid URL 'None': No schema supplied. Perhaps you meant http://None?\n",
      "Invalid URL 'None': No schema supplied. Perhaps you meant http://None?\n",
      "Invalid URL 'None': No schema supplied. Perhaps you meant http://None?\n",
      "Invalid URL '': No schema supplied. Perhaps you meant http://?\n",
      "Invalid URL 'None': No schema supplied. Perhaps you meant http://None?\n",
      "product count :  60\n",
      "real product count :  48\n",
      "Invalid URL 'None': No schema supplied. Perhaps you meant http://None?\n",
      "Invalid URL '': No schema supplied. Perhaps you meant http://?\n",
      "Invalid URL 'None': No schema supplied. Perhaps you meant http://None?\n",
      "Invalid URL 'None': No schema supplied. Perhaps you meant http://None?\n",
      "Invalid URL '': No schema supplied. Perhaps you meant http://?\n",
      "Invalid URL 'None': No schema supplied. Perhaps you meant http://None?\n",
      "Invalid URL 'None': No schema supplied. Perhaps you meant http://None?\n",
      "Invalid URL 'None': No schema supplied. Perhaps you meant http://None?\n",
      "Invalid URL 'None': No schema supplied. Perhaps you meant http://None?\n",
      "Invalid URL 'None': No schema supplied. Perhaps you meant http://None?\n",
      "product count :  60\n",
      "real product count :  48\n",
      "product count :  60\n",
      "real product count :  48\n",
      "Invalid URL 'None': No schema supplied. Perhaps you meant http://None?\n",
      "Invalid URL 'None': No schema supplied. Perhaps you meant http://None?\n",
      "product count :  60\n",
      "real product count :  48\n",
      "Invalid URL 'None': No schema supplied. Perhaps you meant http://None?\n",
      "Invalid URL 'None': No schema supplied. Perhaps you meant http://None?\n",
      "Invalid URL 'None': No schema supplied. Perhaps you meant http://None?\n",
      "product count :  60\n",
      "real product count :  48\n",
      "Invalid URL 'None': No schema supplied. Perhaps you meant http://None?\n",
      "Invalid URL 'None': No schema supplied. Perhaps you meant http://None?\n",
      "Invalid URL 'None': No schema supplied. Perhaps you meant http://None?\n",
      "Invalid URL 'None': No schema supplied. Perhaps you meant http://None?\n",
      "Invalid URL 'None': No schema supplied. Perhaps you meant http://None?\n",
      "Invalid URL 'None': No schema supplied. Perhaps you meant http://None?\n",
      "Invalid URL 'None': No schema supplied. Perhaps you meant http://None?\n",
      "Invalid URL 'None': No schema supplied. Perhaps you meant http://None?\n"
     ]
    }
   ],
   "source": [
    "while page<page_limit:\n",
    "    \n",
    "    random_next_page_time = randint(5,10)\n",
    "    \n",
    "    product_urls = get_product_urls()\n",
    "\n",
    "    for idx,product_url  in enumerate(product_urls):\n",
    "        random_open_time = randint(2,4)\n",
    "        open_product_detail_page(product_url)\n",
    "        try:\n",
    "            download_product_detail_images(idx)\n",
    "            pass\n",
    "        except Exception as e:\n",
    "            print(e)\n",
    "        driver.switch_to.window(driver.window_handles[0])\n",
    "        time.sleep(random_open_time)\n",
    "\n",
    "    go_to_next_page()\n",
    "    time.sleep(random_next_page_time)\n",
    "    page += 1"
   ]
  },
  {
   "cell_type": "code",
   "execution_count": 26,
   "metadata": {},
   "outputs": [],
   "source": [
    "driver.switch_to.window(driver.window_handles[0])"
   ]
  },
  {
   "cell_type": "code",
   "execution_count": 27,
   "metadata": {},
   "outputs": [],
   "source": [
    "driver.close()"
   ]
  },
  {
   "cell_type": "code",
   "execution_count": null,
   "metadata": {},
   "outputs": [],
   "source": []
  }
 ],
 "metadata": {
  "kernelspec": {
   "display_name": "Python 3",
   "language": "python",
   "name": "python3"
  },
  "language_info": {
   "codemirror_mode": {
    "name": "ipython",
    "version": 3
   },
   "file_extension": ".py",
   "mimetype": "text/x-python",
   "name": "python",
   "nbconvert_exporter": "python",
   "pygments_lexer": "ipython3",
   "version": "3.6.8"
  }
 },
 "nbformat": 4,
 "nbformat_minor": 2
}
